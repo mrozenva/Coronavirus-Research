{
 "cells": [
  {
   "cell_type": "markdown",
   "metadata": {},
   "source": [
    "# Phase 1 Project Submission\n",
    "\n",
    "Please fill out:\n",
    "* Student name: Ning Chen\n",
    "* Student pace: full time\n",
    "* Scheduled project review date/time: 11/06/2020\n",
    "* Instructor name: Fangfang Lee & Justin Tennenbaum\n",
    "* Blog post URL:"
   ]
  },
  {
   "cell_type": "code",
   "execution_count": 1,
   "metadata": {
    "ExecuteTime": {
     "end_time": "2020-11-09T16:42:16.477059Z",
     "start_time": "2020-11-09T16:42:16.465937Z"
    }
   },
   "outputs": [],
   "source": [
    "import numpy as np\n",
    "import pandas as pd\n",
    "import seaborn as sns\n",
    "import requests\n",
    "import json\n",
    "import time\n",
    "import csv\n",
    "import matplotlib.pyplot as plt\n",
    "%matplotlib inline"
   ]
  },
  {
   "cell_type": "code",
   "execution_count": 2,
   "metadata": {
    "ExecuteTime": {
     "end_time": "2020-11-09T16:35:18.983994Z",
     "start_time": "2020-11-09T16:35:18.964805Z"
    }
   },
   "outputs": [],
   "source": [
    "%%capture\n",
    "#from tqdm import tqdm_notebook as tqdm\n",
    "from tqdm.notebook import tqdm\n",
    "tqdm().pandas()"
   ]
  },
  {
   "cell_type": "code",
   "execution_count": 3,
   "metadata": {
    "ExecuteTime": {
     "start_time": "2020-11-10T04:27:27.635Z"
    },
    "scrolled": true
   },
   "outputs": [
    {
     "data": {
      "application/vnd.jupyter.widget-view+json": {
       "model_id": "12fb8b923f264a829b7e4302be1bb644",
       "version_major": 2,
       "version_minor": 0
      },
      "text/plain": [
       "HBox(children=(FloatProgress(value=0.0, max=10.0), HTML(value='')))"
      ]
     },
     "metadata": {},
     "output_type": "display_data"
    },
    {
     "name": "stdout",
     "output_type": "stream",
     "text": [
      "\n"
     ]
    }
   ],
   "source": [
    "f = open('tmdb_api.json')\n",
    "api_key = json.load(f)\n",
    "url = f'https://api.themoviedb.org/3/discover/movie?api_key={api_key}'\n",
    "\n",
    "ids = []\n",
    "discover = []\n",
    "random = np.random.uniform(0, 0.1, 501)\n",
    "\n",
    "# for i in tqdm.notebook.tqdm(range(1, 101)):\n",
    "for i in tqdm(range(1, 11)):\n",
    "    params = {  # 'vote_count.gte': 1,\n",
    "        # 'sort_by': 'vote_count.desc',\n",
    "        'page': i,\n",
    "        # 'primary_release_year': 2020,\n",
    "        'language': 'en-US',\n",
    "        'include_adult': 'false',\n",
    "        'include_video': 'false'}\n",
    "    response = requests.get(url, params)\n",
    "    d = response.json()\n",
    "    discover.extend(d['results'])\n",
    "    ids.extend([d['results'][j]['id'] for j in range(len(d['results']))])\n",
    "    time.sleep(random[i])\n",
    "    mov_ids.extend([x['id'] for x in content['results']])"
   ]
  },
  {
   "cell_type": "code",
   "execution_count": 31,
   "metadata": {},
   "outputs": [],
   "source": [
    "# df = pd.DataFrame(discover)\n",
    "# df.to_csv('data_TMDB/discover2020.csv')"
   ]
  },
  {
   "cell_type": "code",
   "execution_count": 4,
   "metadata": {
    "ExecuteTime": {
     "end_time": "2020-11-10T04:18:03.984600Z",
     "start_time": "2020-11-10T04:18:03.980591Z"
    }
   },
   "outputs": [
    {
     "data": {
      "text/plain": [
       "(dict_keys(['page', 'total_results', 'total_pages', 'results']), 500, 10)"
      ]
     },
     "execution_count": 4,
     "metadata": {},
     "output_type": "execute_result"
    }
   ],
   "source": [
    "d.keys(),d['total_pages'],d['page']"
   ]
  },
  {
   "cell_type": "code",
   "execution_count": 5,
   "metadata": {
    "ExecuteTime": {
     "end_time": "2020-11-10T04:18:41.630078Z",
     "start_time": "2020-11-10T04:18:32.215841Z"
    },
    "scrolled": true
   },
   "outputs": [
    {
     "data": {
      "application/vnd.jupyter.widget-view+json": {
       "model_id": "50f8e42eebd448e2a68cdb6eec1085aa",
       "version_major": 2,
       "version_minor": 0
      },
      "text/plain": [
       "HBox(children=(FloatProgress(value=0.0, max=200.0), HTML(value='')))"
      ]
     },
     "metadata": {},
     "output_type": "display_data"
    },
    {
     "name": "stdout",
     "output_type": "stream",
     "text": [
      "\n"
     ]
    }
   ],
   "source": [
    "film = []\n",
    "for i in tqdm(ids):\n",
    "    url = f'https://api.themoviedb.org/3/movie/{i}?api_key={api_key}'\n",
    "    params = {'language': 'en-US'}\n",
    "    response = requests.get(url, params)\n",
    "    film.append(response.json())\n",
    "    time.sleep(np.random.uniform(0.1, 0.5))"
   ]
  },
  {
   "cell_type": "code",
   "execution_count": 84,
   "metadata": {},
   "outputs": [],
   "source": [
    "dis = pd.read_csv('data_TMDB/discover.csv',engine='python')\n",
    "df = pd.read_csv('data_TMDB/en_csv.csv')\n",
    "df5 = pd.read_csv('data_TMDB/five_year.csv')"
   ]
  },
  {
   "cell_type": "code",
   "execution_count": 74,
   "metadata": {},
   "outputs": [
    {
     "data": {
      "text/plain": [
       "Index(['Unnamed: 0', 'popularity', 'vote_count', 'video', 'poster_path', 'id',\n",
       "       'adult', 'backdrop_path', 'original_language', 'original_title',\n",
       "       'genre_ids', 'title', 'vote_average', 'overview', 'release_date'],\n",
       "      dtype='object')"
      ]
     },
     "execution_count": 74,
     "metadata": {},
     "output_type": "execute_result"
    }
   ],
   "source": [
    "dis.columns"
   ]
  },
  {
   "cell_type": "code",
   "execution_count": 7,
   "metadata": {
    "ExecuteTime": {
     "end_time": "2020-11-10T04:19:03.219427Z",
     "start_time": "2020-11-10T04:19:03.170410Z"
    }
   },
   "outputs": [
    {
     "data": {
      "text/plain": [
       "Index(['Unnamed: 0', 'adult', 'backdrop_path', 'belongs_to_collection',\n",
       "       'budget', 'genres', 'homepage', 'id', 'imdb_id', 'original_language',\n",
       "       'original_title', 'overview', 'popularity', 'poster_path',\n",
       "       'production_companies', 'production_countries', 'release_date',\n",
       "       'revenue', 'runtime', 'spoken_languages', 'status', 'tagline', 'title',\n",
       "       'video', 'vote_average', 'vote_count', 'success', 'status_code',\n",
       "       'status_message'],\n",
       "      dtype='object')"
      ]
     },
     "execution_count": 7,
     "metadata": {},
     "output_type": "execute_result"
    }
   ],
   "source": [
    "df.columns"
   ]
  },
  {
   "cell_type": "code",
   "execution_count": 76,
   "metadata": {},
   "outputs": [],
   "source": [
    "col_dis=['Unnamed: 0', 'video', 'poster_path','adult', 'backdrop_path', 'overview']\n",
    "\n",
    "col5=['Unnamed: 0', 'Unnamed: 0.1','adult','backdrop_path','belongs_to_collection','homepage','overview','poster_path','production_companies',\n",
    "'production_countries','spoken_languages','status','tagline','video','success','status_code','status_message']\n",
    "\n",
    "col=['Unnamed: 0','adult','backdrop_path','belongs_to_collection','homepage','overview','poster_path','production_companies',\n",
    "'production_countries','spoken_languages','status','tagline','video','success','status_code','status_message']"
   ]
  },
  {
   "cell_type": "code",
   "execution_count": 85,
   "metadata": {
    "scrolled": true
   },
   "outputs": [],
   "source": [
    "df.drop(columns=col,axis=1, inplace=True)\n",
    "df5.drop(columns=col5,axis=1, inplace=True)\n",
    "dis.drop(columns=col_dis,axis=1, inplace=True)"
   ]
  },
  {
   "cell_type": "code",
   "execution_count": 86,
   "metadata": {},
   "outputs": [],
   "source": [
    "dis.dropna(inplace=True)\n",
    "df.dropna(inplace=True)\n",
    "df5.dropna(inplace=True)"
   ]
  },
  {
   "cell_type": "code",
   "execution_count": 87,
   "metadata": {},
   "outputs": [],
   "source": [
    "dis.to_csv('data_TMDB/discover_trim.csv', index=False)\n",
    "df.to_csv('data_TMDB/en_trim.csv', index=False)\n",
    "df5.to_csv('data_TMDB/fiveyear_trim.csv', index=False)"
   ]
  },
  {
   "cell_type": "code",
   "execution_count": null,
   "metadata": {},
   "outputs": [],
   "source": []
  }
 ],
 "metadata": {
  "kernelspec": {
   "display_name": "Python 3",
   "language": "python",
   "name": "python3"
  },
  "language_info": {
   "codemirror_mode": {
    "name": "ipython",
    "version": 3
   },
   "file_extension": ".py",
   "mimetype": "text/x-python",
   "name": "python",
   "nbconvert_exporter": "python",
   "pygments_lexer": "ipython3",
   "version": "3.8.3"
  }
 },
 "nbformat": 4,
 "nbformat_minor": 2
}
